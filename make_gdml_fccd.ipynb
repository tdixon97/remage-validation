{
 "cells": [
  {
   "cell_type": "code",
   "execution_count": null,
   "metadata": {},
   "outputs": [],
   "source": [
    "from __future__ import annotations\n",
    "\n",
    "import legendhpges as hpges\n",
    "import pyg4ometry as pg4\n",
    "import numpy as np\n",
    "from pygeomtools import viewer\n",
    "import pygeomtools\n",
    "\n",
    "reg = pg4.geant4.Registry()\n",
    "\n",
    "# create a world volume\n",
    "world_s = pg4.geant4.solid.Orb(\"world\", 150, registry=reg, lunit=\"mm\")\n",
    "world_l = pg4.geant4.LogicalVolume(world_s, \"G4_Galactic\", \"world\", registry=reg)\n",
    "reg.setWorld(world_l)\n",
    "\n",
    "\n",
    "\n",
    "\n",
    "# let's make a germanium balloon\n",
    "natge = hpges.materials.make_natural_germanium(reg)\n",
    "ge_s = pg4.geant4.solid.Tubs(\n",
    "    \"germanium\",\n",
    "    pRMin=0,\n",
    "    pRMax=10,\n",
    "    pDz=10,\n",
    "    pSPhi=0,\n",
    "    pDPhi=2 * np.pi,\n",
    "    registry=reg,\n",
    "    lunit=\"mm\",\n",
    ")\n",
    "ge_l = pg4.geant4.LogicalVolume(ge_s, natge, \"germanium\", registry=reg)\n",
    "pg4.geant4.PhysicalVolume([0, 0, 0], [0, 0, 0], ge_l, \"germanium\", world_l, registry=reg)\n",
    "ge_l.pygeom_color_rgba = (0, 1, 1, 0.9)\n",
    "\n",
    "shield_s = pg4.geant4.solid.Tubs(\"Al_s\", 0, 10, 0.5, 0, 2 * np.pi, registry=reg)\n",
    "shield_l = pg4.geant4.LogicalVolume(shield_s, \"G4_Al\", \"Shield_L\", registry=reg)\n",
    "pg4.geant4.PhysicalVolume(\n",
    "    [0, 0, 0], [0, 0, 0.8, \"cm\"], shield_l, \"Shield\", world_l, registry=reg\n",
    ")\n",
    "\n",
    "shield_l.pygeom_color_rgba = (0, 1, 0, 0.9)\n",
    "\n",
    "# finally create a small radioactive source\n",
    "source_s = pg4.geant4.solid.Tubs(\"Source_s\", 0, 1, 1, 0, 2 * np.pi, registry=reg)\n",
    "source_l = pg4.geant4.LogicalVolume(source_s, \"G4_Fe\", \"Source_L\", registry=reg)\n",
    "pg4.geant4.PhysicalVolume(\n",
    "    [0, 0, 0], [0, 0, 1.5, \"cm\"], source_l, \"Source\", world_l, registry=reg\n",
    ")\n",
    "\n",
    "viewer.visualize(reg)\n",
    "pygeomtools.visualization.write_color_auxvals(reg)\n",
    "\n",
    "w = pg4.gdml.Writer()\n",
    "w.addDetector(reg)\n",
    "\n",
    "w.write(\"gdml/geometry_fccd.gdml\")"
   ]
  },
  {
   "cell_type": "code",
   "execution_count": null,
   "metadata": {},
   "outputs": [],
   "source": []
  }
 ],
 "metadata": {
  "kernelspec": {
   "display_name": "sims",
   "language": "python",
   "name": "sims"
  },
  "language_info": {
   "codemirror_mode": {
    "name": "ipython",
    "version": 3
   },
   "file_extension": ".py",
   "mimetype": "text/x-python",
   "name": "python",
   "nbconvert_exporter": "python",
   "pygments_lexer": "ipython3",
   "version": "3.11.10"
  }
 },
 "nbformat": 4,
 "nbformat_minor": 4
}
