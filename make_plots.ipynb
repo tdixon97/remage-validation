{
 "cells": [
  {
   "cell_type": "code",
   "execution_count": 1,
   "metadata": {},
   "outputs": [],
   "source": [
    "import numpy as np\n",
    "from lgdo import lh5\n",
    "from pathlib import Path\n",
    "from matplotlib import pyplot as plt\n",
    "import tol_colors as tc\n",
    "import hist\n",
    "import awkward as ak\n",
    "from scipy.stats import beta\n",
    "import dbetto\n",
    "\n",
    "plt.rcParams[\"lines.linewidth\"] = 1\n",
    "plt.rcParams[\"figure.figsize\"] = (12, 4)\n",
    "plt.rcParams[\"font.size\"] = 14\n",
    "vib = tc.tol_cset(\"vibrant\")\n",
    "vset = tc.tol_cset(\"vibrant\")\n",
    "mset = tc.tol_cset(\"muted\")\n",
    "\n",
    "style = {\n",
    "    \"yerr\": False,\n",
    "    \"flow\": None,\n",
    "    \"fill\": False,\n",
    "    \"lw\": 1,\n",
    "}\n",
    "\n",
    "# Get the BuPu colormap\n",
    "cmap = plt.get_cmap(\"cividis\")"
   ]
  },
  {
   "cell_type": "code",
   "execution_count": 2,
   "metadata": {},
   "outputs": [],
   "source": [
    "def get_lh5(generator, name, val,threads = 128):\n",
    "    path = f\"{generator}/{name}/max_{val}/\"\n",
    "    hit_directory = Path(f\"out/{path}/hit/\")\n",
    "    data = None\n",
    "    \n",
    "    for t in range(threads):\n",
    "        dt = lh5.read_as(\"germanium/hit\", f\"{hit_directory}/out_t{t}.lh5\", \"ak\")\n",
    "        data = ak.concatenate((data,dt)) if data is not None else dt\n",
    "    return data\n",
    "\n",
    "n_sim = 100000"
   ]
  },
  {
   "cell_type": "code",
   "execution_count": 3,
   "metadata": {},
   "outputs": [],
   "source": [
    "# Define bin ranges\n",
    "bin1 = np.arange(0, 2, 0.5)  # 0.2 keV bins from 0 to 2\n",
    "bin2 = np.arange(2, 10, 2)  # 2 keV bins from 2 to 10\n",
    "bin3 = np.arange(10, 50, 10)  # 10 keV bins from 10 to 50\n",
    "bin4 = np.arange(50, 950, 50)  # 50 keV bins from 50 to 950\n",
    "bin3 = np.arange(950, 980, 10)  # 10 keV bins from 10 to 50\n",
    "\n",
    "bin5 = np.arange(980, 998, 2)  # 2 keV bins from 990 to 998\n",
    "bin6 = np.arange(998, 1002.2, 0.5)  # 0.2 keV bins from 998 to 1002\n",
    "\n",
    "# Combine all bins into one array\n",
    "bins = np.unique(np.concatenate([bin1, bin2, bin3, bin4, bin5, bin6]))"
   ]
  },
  {
   "cell_type": "code",
   "execution_count": 4,
   "metadata": {},
   "outputs": [],
   "source": [
    "def get_binomial_interval(npass, n):\n",
    "    eff = npass / n\n",
    "    quantiles = beta.ppf([0.16, 0.84], npass + 1, n - npass + 1)\n",
    "    err_low = eff - quantiles[0]\n",
    "    err_high = quantiles[1] - eff\n",
    "    if err_high <= 0:\n",
    "        quantiles = beta.ppf([1 - 0.68, 1], npass + 1, n - npass + 1)\n",
    "        err_low = eff - quantiles[0]\n",
    "        err_high = quantiles[1] - eff\n",
    "    elif err_low <= 0:\n",
    "        quantiles = beta.ppf([0, 0.68], npass + 1, n - npass + 1)\n",
    "        err_low = eff - quantiles[0]\n",
    "        err_high = quantiles[1] - eff\n",
    "    return err_low, err_high"
   ]
  },
  {
   "cell_type": "code",
   "execution_count": 5,
   "metadata": {},
   "outputs": [
    {
     "data": {
      "text/plain": [
       "(0.0, 0.011218129756292924)"
      ]
     },
     "execution_count": 5,
     "metadata": {},
     "output_type": "execute_result"
    }
   ],
   "source": [
    "get_binomial_interval(0, 100)"
   ]
  },
  {
   "cell_type": "code",
   "execution_count": 12,
   "metadata": {},
   "outputs": [],
   "source": [
    "def plot(\n",
    "    generator,\n",
    "    xrange,\n",
    "    cuts =[0.5, 1, 2, 5, 10, 20, 50, 100, 200, 500,1000] ,\n",
    "    names=[\"step_limits\"],\n",
    "    fields=[\"active_energy_pre\"],\n",
    "    de=2,\n",
    "    scale=\"log\",\n",
    "    eff_title=None,\n",
    "    ylims=None,\n",
    "    eff_low=999,\n",
    "    eff_high=1001,\n",
    "    savename_spec=None,\n",
    "    savename_eff=None,\n",
    "    doeff=False,\n",
    "    figsize=(12, 4),\n",
    "    legend=True,\n",
    "    binning=1,\n",
    "    bs=100,\n",
    "    factor=1,\n",
    "    types=\"all\",\n",
    "    label=\"Energy [keV]\",\n",
    "):\n",
    "    if binning is None:\n",
    "        bins_tmp = np.linspace(0, 10, bs)\n",
    "    else:\n",
    "        bins_tmp = bins\n",
    "\n",
    "    if not isinstance(names, list):\n",
    "        names = list(names)\n",
    "\n",
    "    quants = {val / 10: [] for val in range(5)}\n",
    "    effs = {}\n",
    "    steps = {}\n",
    "\n",
    "    # get default\n",
    "    for field in fields:\n",
    "        fig, ax = plt.subplots(figsize=figsize)\n",
    "\n",
    "        ak_obj = get_lh5(generator, f\"def_lar_off_{types}\", 0)\n",
    "        ak_obj = ak_obj[ak_obj[field] != 0]\n",
    "        ak_obj[field] = ak_obj[field] * factor\n",
    "    \n",
    "        hist_def = hist.Hist(hist.axis.Variable(bins_tmp)).fill(\n",
    "            ak_obj[field].to_numpy() + 1e-4\n",
    "        )\n",
    "    \n",
    "        for b in range(hist_def.size - 2):\n",
    "            hist_def[b] *= 1 / np.diff(bins_tmp)[b]\n",
    "    \n",
    "        eff_def = ak.sum((ak_obj[field] > eff_low) & (ak_obj[field] < eff_high))\n",
    "    \n",
    "        for name_simple in names:\n",
    "\n",
    "            name=f\"{name_simple}_{types}\"\n",
    "            hist_def.plot(yerr=False, flow=None, fill=True, alpha=0.2, label=\"No limits\")\n",
    "    \n",
    "            effs[name] = []\n",
    "            steps[name] = []\n",
    "    \n",
    "            for idx, val in enumerate(cuts):\n",
    "                ak_obj = get_lh5(generator, name, val)\n",
    "                ak_obj = ak_obj[ak_obj[field] != 0]\n",
    "                ak_obj[field] = ak_obj[field] * factor\n",
    "    \n",
    "                hist_tmp = hist.Hist(hist.axis.Variable(bins_tmp)).fill(\n",
    "                    ak_obj[field].to_numpy() + 1e-4\n",
    "                )\n",
    "    \n",
    "                for b in range(hist_tmp.size - 2):\n",
    "                    hist_tmp[b] *= 1 / np.diff(bins_tmp)[b]\n",
    "    \n",
    "                hist_tmp.plot(**style, label=f\"{int(val)} um \")\n",
    "    \n",
    "                if legend:\n",
    "                    ax.legend(loc=\"best\")\n",
    "                    ax.legend(ncol=2)\n",
    "                    ax.get_legend().set_title(name)\n",
    "                ax.set_yscale(scale)\n",
    "                ax.set_xlabel(label)\n",
    "                ax.set_ylabel(\"counts\")\n",
    "                ax.set_xlim(*xrange)\n",
    "    \n",
    "                if ylims is not None:\n",
    "                    ax.set_ylim(*ylims)\n",
    "    \n",
    "                steps[name].append(val)\n",
    "                effs[name].append(\n",
    "                    ak.sum((ak_obj[field] > eff_low) & (ak_obj[field] < eff_high))\n",
    "                )\n",
    "            plt.tight_layout()\n",
    "    \n",
    "        if savename_spec is not None:\n",
    "            plt.savefig(savename_spec)\n",
    "    \n",
    "        if not doeff:\n",
    "            return\n",
    "        fig, ax = plt.subplots()\n",
    "    \n",
    "        # get binomial error\n",
    "        eff_def_low = 100 * get_binomial_interval(eff_def, n_sim)[0]\n",
    "        eff_def_high = 100 * get_binomial_interval(eff_def, n_sim)[1]\n",
    "    \n",
    "        ax.axhspan(\n",
    "            ymin=100 * eff_def / n_sim - eff_def_low,\n",
    "            ymax=100 * eff_def / n_sim + eff_def_high,\n",
    "            label=\"default\",\n",
    "            alpha=0.2,\n",
    "            color=\"grey\",\n",
    "        )\n",
    "        ax.axhline(y=100 * eff_def / n_sim, color=\"black\", linestyle=\"--\")\n",
    "    \n",
    "        for name in effs.keys():\n",
    "            e = effs[name]\n",
    "            s = steps[name]\n",
    "            err_low = [get_binomial_interval(et, n_sim)[0] * 100 for et in e]\n",
    "            err_high = [get_binomial_interval(et, n_sim)[1] * 100 for et in e]\n",
    "    \n",
    "            ax.errorbar(\n",
    "                s,\n",
    "                100 * np.array(e) / n_sim,\n",
    "                yerr=[err_low, err_high],\n",
    "                fmt=\".\",\n",
    "                linestyle=\"--\",\n",
    "                label=f\"varying {name}\",\n",
    "            )\n",
    "    \n",
    "        ax.set_xlabel(f\"{name} [um]\")\n",
    "        ax.set_ylabel(\"Efficiency [%]\")\n",
    "    \n",
    "        if eff_title is not None:\n",
    "            ax.set_title(eff_title)\n",
    "    \n",
    "        ax.legend(loc=\"best\")\n",
    "        plt.tight_layout()\n",
    "        if savename_eff is not None:\n",
    "            plt.savefig(savename_eff)"
   ]
  },
  {
   "cell_type": "code",
   "execution_count": 36,
   "metadata": {},
   "outputs": [],
   "source": [
    "def plot_performance(generator, name=\"step_limits\", namep=\"\"):\n",
    "    prof = dbetto.utils.load_dict(\"profile.yaml\")[generator][name]\n",
    "\n",
    "    size = []\n",
    "    vals = []\n",
    "    times = []\n",
    "    for key, val in sorted(prof.items()):\n",
    "        size.append(float(val[\"size\"]))\n",
    "        times.append(float(val[\"time\"]))\n",
    "        vals.append(float(key))\n",
    "\n",
    "    idx = np.argsort(vals)\n",
    "    size = np.array(size)[idx]\n",
    "    vals = np.array(vals)[idx]\n",
    "    times = np.array(times)[idx]\n",
    "\n",
    "    # Create figure and first axis\n",
    "    fig, ax1 = plt.subplots()\n",
    "\n",
    "    # Plot the first dataset (sine wave)\n",
    "    ax1.plot(vals, times, \"b-*\")\n",
    "    ax1.set_xlabel(f\"{name} [um]\")\n",
    "    ax1.set_ylabel(\"time [s]\", color=\"b\")\n",
    "    ax1.tick_params(axis=\"y\", labelcolor=\"b\")\n",
    "    ax1.set_ylim(0, 1.2 * ax1.get_ylim()[1])\n",
    "\n",
    "    # Create a second y-axis sharing the same x-axis\n",
    "    ax2 = ax1.twinx()\n",
    "\n",
    "    # Plot the second dataset (cosine wave)\n",
    "    ax2.plot(vals, size, \"r--.\")\n",
    "\n",
    "    ax2.set_ylabel(\"Size [MB]\", color=\"r\")\n",
    "\n",
    "    ax2.tick_params(axis=\"y\", labelcolor=\"r\")\n",
    "    ax2.set_ylim(0, 1.2 * ax2.get_ylim()[1])\n",
    "    ax2.set_xscale(\"log\")\n",
    "    # Show the plot\n",
    "    fig.tight_layout()  # Adjust layout\n",
    "    \n",
    "    plt.savefig(namep)"
   ]
  },
  {
   "cell_type": "markdown",
   "metadata": {},
   "source": [
    "### Beta in bulk"
   ]
  },
  {
   "cell_type": "code",
   "execution_count": 8,
   "metadata": {},
   "outputs": [
    {
     "ename": "FileNotFoundError",
     "evalue": "[Errno 2] Unable to synchronously open file (unable to open file: name = 'out/beta_bulk_all/def_lar_off/max_0/hit/out_t0.lh5', errno = 2, error message = 'No such file or directory', flags = 0, o_flags = 0)",
     "output_type": "error",
     "traceback": [
      "\u001b[0;31m---------------------------------------------------------------------------\u001b[0m",
      "\u001b[0;31mFileNotFoundError\u001b[0m                         Traceback (most recent call last)",
      "Cell \u001b[0;32mIn[8], line 1\u001b[0m\n\u001b[0;32m----> 1\u001b[0m \u001b[43mplot\u001b[49m\u001b[43m(\u001b[49m\n\u001b[1;32m      2\u001b[0m \u001b[43m    \u001b[49m\u001b[38;5;124;43m\"\u001b[39;49m\u001b[38;5;124;43mbeta_bulk_all\u001b[39;49m\u001b[38;5;124;43m\"\u001b[39;49m\u001b[43m,\u001b[49m\n\u001b[1;32m      3\u001b[0m \u001b[43m    \u001b[49m\u001b[43m(\u001b[49m\u001b[38;5;241;43m-\u001b[39;49m\u001b[38;5;241;43m1\u001b[39;49m\u001b[43m,\u001b[49m\u001b[43m \u001b[49m\u001b[38;5;241;43m1020\u001b[39;49m\u001b[43m)\u001b[49m\u001b[43m,\u001b[49m\n\u001b[1;32m      4\u001b[0m \u001b[43m    \u001b[49m\u001b[43mfields\u001b[49m\u001b[38;5;241;43m=\u001b[39;49m\u001b[43m[\u001b[49m\u001b[38;5;124;43m\"\u001b[39;49m\u001b[38;5;124;43mtruth_energy\u001b[39;49m\u001b[38;5;124;43m\"\u001b[39;49m\u001b[43m]\u001b[49m\u001b[43m,\u001b[49m\n\u001b[1;32m      5\u001b[0m \u001b[43m    \u001b[49m\u001b[43msavename_spec\u001b[49m\u001b[38;5;241;43m=\u001b[39;49m\u001b[38;5;124;43m\"\u001b[39;49m\u001b[38;5;124;43mplots/beta_bulk_steps_truth.pdf\u001b[39;49m\u001b[38;5;124;43m\"\u001b[39;49m\u001b[43m,\u001b[49m\n\u001b[1;32m      6\u001b[0m \u001b[43m    \u001b[49m\u001b[43msavename_eff\u001b[49m\u001b[38;5;241;43m=\u001b[39;49m\u001b[38;5;124;43m\"\u001b[39;49m\u001b[38;5;124;43mplots/beta_bulk_steps_eff_truth.pdf\u001b[39;49m\u001b[38;5;124;43m\"\u001b[39;49m\u001b[43m,\u001b[49m\n\u001b[1;32m      7\u001b[0m \u001b[43m    \u001b[49m\u001b[43mdoeff\u001b[49m\u001b[38;5;241;43m=\u001b[39;49m\u001b[38;5;28;43;01mTrue\u001b[39;49;00m\u001b[43m,\u001b[49m\n\u001b[1;32m      8\u001b[0m \u001b[43m    \u001b[49m\u001b[43mfigsize\u001b[49m\u001b[38;5;241;43m=\u001b[39;49m\u001b[43m(\u001b[49m\u001b[38;5;241;43m12\u001b[39;49m\u001b[43m,\u001b[49m\u001b[43m \u001b[49m\u001b[38;5;241;43m4\u001b[39;49m\u001b[43m)\u001b[49m\u001b[43m,\u001b[49m\n\u001b[1;32m      9\u001b[0m \u001b[43m)\u001b[49m\n\u001b[1;32m     10\u001b[0m plot(\n\u001b[1;32m     11\u001b[0m     \u001b[38;5;124m\"\u001b[39m\u001b[38;5;124mbeta_bulk\u001b[39m\u001b[38;5;124m\"\u001b[39m,\n\u001b[1;32m     12\u001b[0m     (\u001b[38;5;241m990\u001b[39m, \u001b[38;5;241m1010\u001b[39m),\n\u001b[0;32m   (...)\u001b[0m\n\u001b[1;32m     16\u001b[0m     legend\u001b[38;5;241m=\u001b[39m\u001b[38;5;28;01mFalse\u001b[39;00m,\n\u001b[1;32m     17\u001b[0m )\n",
      "Cell \u001b[0;32mIn[6], line 39\u001b[0m, in \u001b[0;36mplot\u001b[0;34m(generator, xrange, cuts, names, fields, de, scale, eff_title, ylims, eff_low, eff_high, savename_spec, savename_eff, doeff, figsize, legend, binning, bs, factor, label)\u001b[0m\n\u001b[1;32m     36\u001b[0m \u001b[38;5;28;01mfor\u001b[39;00m field \u001b[38;5;129;01min\u001b[39;00m fields:\n\u001b[1;32m     37\u001b[0m     fig, ax \u001b[38;5;241m=\u001b[39m plt\u001b[38;5;241m.\u001b[39msubplots(figsize\u001b[38;5;241m=\u001b[39mfigsize)\n\u001b[0;32m---> 39\u001b[0m     ak_obj \u001b[38;5;241m=\u001b[39m \u001b[43mget_lh5\u001b[49m\u001b[43m(\u001b[49m\u001b[43mgenerator\u001b[49m\u001b[43m,\u001b[49m\u001b[43m \u001b[49m\u001b[38;5;124;43m\"\u001b[39;49m\u001b[38;5;124;43mdef_lar_off\u001b[39;49m\u001b[38;5;124;43m\"\u001b[39;49m\u001b[43m,\u001b[49m\u001b[43m \u001b[49m\u001b[38;5;241;43m0\u001b[39;49m\u001b[43m)\u001b[49m\n\u001b[1;32m     40\u001b[0m     ak_obj \u001b[38;5;241m=\u001b[39m ak_obj[ak_obj[field] \u001b[38;5;241m!=\u001b[39m \u001b[38;5;241m0\u001b[39m]\n\u001b[1;32m     41\u001b[0m     ak_obj[field] \u001b[38;5;241m=\u001b[39m ak_obj[field] \u001b[38;5;241m*\u001b[39m factor\n",
      "Cell \u001b[0;32mIn[2], line 7\u001b[0m, in \u001b[0;36mget_lh5\u001b[0;34m(generator, name, val, threads)\u001b[0m\n\u001b[1;32m      4\u001b[0m data \u001b[38;5;241m=\u001b[39m \u001b[38;5;28;01mNone\u001b[39;00m\n\u001b[1;32m      6\u001b[0m \u001b[38;5;28;01mfor\u001b[39;00m t \u001b[38;5;129;01min\u001b[39;00m \u001b[38;5;28mrange\u001b[39m(threads):\n\u001b[0;32m----> 7\u001b[0m     dt \u001b[38;5;241m=\u001b[39m \u001b[43mlh5\u001b[49m\u001b[38;5;241;43m.\u001b[39;49m\u001b[43mread_as\u001b[49m\u001b[43m(\u001b[49m\u001b[38;5;124;43m\"\u001b[39;49m\u001b[38;5;124;43mgermanium/hit\u001b[39;49m\u001b[38;5;124;43m\"\u001b[39;49m\u001b[43m,\u001b[49m\u001b[43m \u001b[49m\u001b[38;5;124;43mf\u001b[39;49m\u001b[38;5;124;43m\"\u001b[39;49m\u001b[38;5;132;43;01m{\u001b[39;49;00m\u001b[43mhit_directory\u001b[49m\u001b[38;5;132;43;01m}\u001b[39;49;00m\u001b[38;5;124;43m/out_t\u001b[39;49m\u001b[38;5;132;43;01m{\u001b[39;49;00m\u001b[43mt\u001b[49m\u001b[38;5;132;43;01m}\u001b[39;49;00m\u001b[38;5;124;43m.lh5\u001b[39;49m\u001b[38;5;124;43m\"\u001b[39;49m\u001b[43m,\u001b[49m\u001b[43m \u001b[49m\u001b[38;5;124;43m\"\u001b[39;49m\u001b[38;5;124;43mak\u001b[39;49m\u001b[38;5;124;43m\"\u001b[39;49m\u001b[43m)\u001b[49m\n\u001b[1;32m      8\u001b[0m     data \u001b[38;5;241m=\u001b[39m ak\u001b[38;5;241m.\u001b[39mconcatenate((data,dt)) \u001b[38;5;28;01mif\u001b[39;00m data \u001b[38;5;129;01mis\u001b[39;00m \u001b[38;5;129;01mnot\u001b[39;00m \u001b[38;5;28;01mNone\u001b[39;00m \u001b[38;5;28;01melse\u001b[39;00m dt\n\u001b[1;32m      9\u001b[0m \u001b[38;5;28;01mreturn\u001b[39;00m data\n",
      "File \u001b[0;32m~/.conda/envs/sims/lib/python3.11/site-packages/lgdo/lh5/core.py:355\u001b[0m, in \u001b[0;36mread_as\u001b[0;34m(name, lh5_file, library, **kwargs)\u001b[0m\n\u001b[1;32m    351\u001b[0m         kwargs2[k] \u001b[38;5;241m=\u001b[39m v\n\u001b[1;32m    353\u001b[0m \u001b[38;5;66;03m# read the LGDO from disk\u001b[39;00m\n\u001b[1;32m    354\u001b[0m \u001b[38;5;66;03m# NOTE: providing a buffer does not make much sense\u001b[39;00m\n\u001b[0;32m--> 355\u001b[0m obj \u001b[38;5;241m=\u001b[39m \u001b[43mread\u001b[49m\u001b[43m(\u001b[49m\u001b[43mname\u001b[49m\u001b[43m,\u001b[49m\u001b[43m \u001b[49m\u001b[43mlh5_file\u001b[49m\u001b[43m,\u001b[49m\u001b[43m \u001b[49m\u001b[38;5;241;43m*\u001b[39;49m\u001b[38;5;241;43m*\u001b[39;49m\u001b[43mkwargs1\u001b[49m\u001b[43m)\u001b[49m\n\u001b[1;32m    357\u001b[0m \u001b[38;5;28;01mif\u001b[39;00m \u001b[38;5;28misinstance\u001b[39m(obj, \u001b[38;5;28mtuple\u001b[39m):\n\u001b[1;32m    358\u001b[0m     obj \u001b[38;5;241m=\u001b[39m obj[\u001b[38;5;241m0\u001b[39m]\n",
      "File \u001b[0;32m~/.conda/envs/sims/lib/python3.11/site-packages/lgdo/lh5/core.py:119\u001b[0m, in \u001b[0;36mread\u001b[0;34m(name, lh5_file, start_row, n_rows, idx, use_h5idx, field_mask, obj_buf, obj_buf_start, decompress, locking)\u001b[0m\n\u001b[1;32m    117\u001b[0m     lh5_obj \u001b[38;5;241m=\u001b[39m lh5_file[name]\n\u001b[1;32m    118\u001b[0m \u001b[38;5;28;01melif\u001b[39;00m \u001b[38;5;28misinstance\u001b[39m(lh5_file, \u001b[38;5;28mstr\u001b[39m):\n\u001b[0;32m--> 119\u001b[0m     lh5_file \u001b[38;5;241m=\u001b[39m \u001b[43mh5py\u001b[49m\u001b[38;5;241;43m.\u001b[39;49m\u001b[43mFile\u001b[49m\u001b[43m(\u001b[49m\u001b[43mlh5_file\u001b[49m\u001b[43m,\u001b[49m\u001b[43m \u001b[49m\u001b[43mmode\u001b[49m\u001b[38;5;241;43m=\u001b[39;49m\u001b[38;5;124;43m\"\u001b[39;49m\u001b[38;5;124;43mr\u001b[39;49m\u001b[38;5;124;43m\"\u001b[39;49m\u001b[43m,\u001b[49m\u001b[43m \u001b[49m\u001b[43mlocking\u001b[49m\u001b[38;5;241;43m=\u001b[39;49m\u001b[43mlocking\u001b[49m\u001b[43m)\u001b[49m\n\u001b[1;32m    120\u001b[0m     lh5_obj \u001b[38;5;241m=\u001b[39m lh5_file[name]\n\u001b[1;32m    121\u001b[0m \u001b[38;5;28;01melse\u001b[39;00m:\n",
      "File \u001b[0;32m~/.conda/envs/sims/lib/python3.11/site-packages/h5py/_hl/files.py:564\u001b[0m, in \u001b[0;36mFile.__init__\u001b[0;34m(self, name, mode, driver, libver, userblock_size, swmr, rdcc_nslots, rdcc_nbytes, rdcc_w0, track_order, fs_strategy, fs_persist, fs_threshold, fs_page_size, page_buf_size, min_meta_keep, min_raw_keep, locking, alignment_threshold, alignment_interval, meta_block_size, **kwds)\u001b[0m\n\u001b[1;32m    555\u001b[0m     fapl \u001b[38;5;241m=\u001b[39m make_fapl(driver, libver, rdcc_nslots, rdcc_nbytes, rdcc_w0,\n\u001b[1;32m    556\u001b[0m                      locking, page_buf_size, min_meta_keep, min_raw_keep,\n\u001b[1;32m    557\u001b[0m                      alignment_threshold\u001b[38;5;241m=\u001b[39malignment_threshold,\n\u001b[1;32m    558\u001b[0m                      alignment_interval\u001b[38;5;241m=\u001b[39malignment_interval,\n\u001b[1;32m    559\u001b[0m                      meta_block_size\u001b[38;5;241m=\u001b[39mmeta_block_size,\n\u001b[1;32m    560\u001b[0m                      \u001b[38;5;241m*\u001b[39m\u001b[38;5;241m*\u001b[39mkwds)\n\u001b[1;32m    561\u001b[0m     fcpl \u001b[38;5;241m=\u001b[39m make_fcpl(track_order\u001b[38;5;241m=\u001b[39mtrack_order, fs_strategy\u001b[38;5;241m=\u001b[39mfs_strategy,\n\u001b[1;32m    562\u001b[0m                      fs_persist\u001b[38;5;241m=\u001b[39mfs_persist, fs_threshold\u001b[38;5;241m=\u001b[39mfs_threshold,\n\u001b[1;32m    563\u001b[0m                      fs_page_size\u001b[38;5;241m=\u001b[39mfs_page_size)\n\u001b[0;32m--> 564\u001b[0m     fid \u001b[38;5;241m=\u001b[39m \u001b[43mmake_fid\u001b[49m\u001b[43m(\u001b[49m\u001b[43mname\u001b[49m\u001b[43m,\u001b[49m\u001b[43m \u001b[49m\u001b[43mmode\u001b[49m\u001b[43m,\u001b[49m\u001b[43m \u001b[49m\u001b[43muserblock_size\u001b[49m\u001b[43m,\u001b[49m\u001b[43m \u001b[49m\u001b[43mfapl\u001b[49m\u001b[43m,\u001b[49m\u001b[43m \u001b[49m\u001b[43mfcpl\u001b[49m\u001b[43m,\u001b[49m\u001b[43m \u001b[49m\u001b[43mswmr\u001b[49m\u001b[38;5;241;43m=\u001b[39;49m\u001b[43mswmr\u001b[49m\u001b[43m)\u001b[49m\n\u001b[1;32m    566\u001b[0m \u001b[38;5;28;01mif\u001b[39;00m \u001b[38;5;28misinstance\u001b[39m(libver, \u001b[38;5;28mtuple\u001b[39m):\n\u001b[1;32m    567\u001b[0m     \u001b[38;5;28mself\u001b[39m\u001b[38;5;241m.\u001b[39m_libver \u001b[38;5;241m=\u001b[39m libver\n",
      "File \u001b[0;32m~/.conda/envs/sims/lib/python3.11/site-packages/h5py/_hl/files.py:238\u001b[0m, in \u001b[0;36mmake_fid\u001b[0;34m(name, mode, userblock_size, fapl, fcpl, swmr)\u001b[0m\n\u001b[1;32m    236\u001b[0m     \u001b[38;5;28;01mif\u001b[39;00m swmr \u001b[38;5;129;01mand\u001b[39;00m swmr_support:\n\u001b[1;32m    237\u001b[0m         flags \u001b[38;5;241m|\u001b[39m\u001b[38;5;241m=\u001b[39m h5f\u001b[38;5;241m.\u001b[39mACC_SWMR_READ\n\u001b[0;32m--> 238\u001b[0m     fid \u001b[38;5;241m=\u001b[39m \u001b[43mh5f\u001b[49m\u001b[38;5;241;43m.\u001b[39;49m\u001b[43mopen\u001b[49m\u001b[43m(\u001b[49m\u001b[43mname\u001b[49m\u001b[43m,\u001b[49m\u001b[43m \u001b[49m\u001b[43mflags\u001b[49m\u001b[43m,\u001b[49m\u001b[43m \u001b[49m\u001b[43mfapl\u001b[49m\u001b[38;5;241;43m=\u001b[39;49m\u001b[43mfapl\u001b[49m\u001b[43m)\u001b[49m\n\u001b[1;32m    239\u001b[0m \u001b[38;5;28;01melif\u001b[39;00m mode \u001b[38;5;241m==\u001b[39m \u001b[38;5;124m'\u001b[39m\u001b[38;5;124mr+\u001b[39m\u001b[38;5;124m'\u001b[39m:\n\u001b[1;32m    240\u001b[0m     fid \u001b[38;5;241m=\u001b[39m h5f\u001b[38;5;241m.\u001b[39mopen(name, h5f\u001b[38;5;241m.\u001b[39mACC_RDWR, fapl\u001b[38;5;241m=\u001b[39mfapl)\n",
      "File \u001b[0;32mh5py/_objects.pyx:54\u001b[0m, in \u001b[0;36mh5py._objects.with_phil.wrapper\u001b[0;34m()\u001b[0m\n",
      "File \u001b[0;32mh5py/_objects.pyx:55\u001b[0m, in \u001b[0;36mh5py._objects.with_phil.wrapper\u001b[0;34m()\u001b[0m\n",
      "File \u001b[0;32mh5py/h5f.pyx:102\u001b[0m, in \u001b[0;36mh5py.h5f.open\u001b[0;34m()\u001b[0m\n",
      "\u001b[0;31mFileNotFoundError\u001b[0m: [Errno 2] Unable to synchronously open file (unable to open file: name = 'out/beta_bulk_all/def_lar_off/max_0/hit/out_t0.lh5', errno = 2, error message = 'No such file or directory', flags = 0, o_flags = 0)"
     ]
    },
    {
     "data": {
      "image/png": "[encoded data removed]",
      "text/plain": [
       "<Figure size 1200x400 with 1 Axes>"
      ]
     },
     "metadata": {},
     "output_type": "display_data"
    }
   ],
   "source": [
    "plot(\n",
    "    \"beta_bulk_all\",\n",
    "    (-1, 1020),\n",
    "    fields=[\"truth_energy\"],\n",
    "    savename_spec=\"plots/beta_bulk_steps_truth.pdf\",\n",
    "    savename_eff=\"plots/beta_bulk_steps_eff_truth.pdf\",\n",
    "    doeff=True,\n",
    "    figsize=(12, 4),\n",
    ")\n",
    "plot(\n",
    "    \"beta_bulk\",\n",
    "    (990, 1010),\n",
    "    fields=[\"truth_energy\"],\n",
    "    figsize=(6, 4),\n",
    "    savename_spec=\"plots/beta_bulk_peak_truth.pdf\",\n",
    "    legend=False,\n",
    ")"
   ]
  },
  {
   "cell_type": "code",
   "execution_count": null,
   "metadata": {},
   "outputs": [],
   "source": [
    "plot(\n",
    "    \"beta_bulk\",\n",
    "    (0, 2),\n",
    "    field=\"r90\",\n",
    "    factor=1000,\n",
    "    doeff=True,\n",
    "    figsize=(12, 4),\n",
    "    binning=None,\n",
    "    label=\"r90 [mm]\",\n",
    "    eff_low=2.5,\n",
    "    eff_high=20,\n",
    "    bs=2000,\n",
    ")\n",
    "\n",
    "plot(\n",
    "    \"beta_bulk\",\n",
    "    (0, 20),\n",
    "    field=\"r90\",\n",
    "    factor=1000,\n",
    "    doeff=True,\n",
    "    figsize=(12, 4),\n",
    "    binning=None,\n",
    "    label=\"r90 [mm]\",\n",
    "    eff_low=2.5,\n",
    "    eff_high=20,\n",
    ")"
   ]
  },
  {
   "cell_type": "code",
   "execution_count": null,
   "metadata": {},
   "outputs": [],
   "source": [
    "plot(\n",
    "    \"beta_bulk\",\n",
    "    (0, 2),\n",
    "    field=\"r90\",\n",
    "    names=[\"step_limits_PreStep\", \"step_limits_Average\", \"step_limits_PostStep\"],\n",
    "    factor=1000,\n",
    "    doeff=True,\n",
    "    figsize=(12, 4),\n",
    "    binning=None,\n",
    "    label=\"r90 [mm]\",\n",
    "    eff_low=0.25,\n",
    "    eff_high=0.5,\n",
    "    bs=2000,\n",
    ")"
   ]
  },
  {
   "cell_type": "code",
   "execution_count": null,
   "metadata": {},
   "outputs": [],
   "source": [
    "plot(\n",
    "    \"beta_bulk\",\n",
    "    (-1, 1020),\n",
    "    names=[\"step_limits_PreStep\", \"step_limits_Average\", \"step_limits_PostStep\"],\n",
    "    field=\"active_energy\",\n",
    "    doeff=True,\n",
    "    figsize=(12, 4),\n",
    ")\n",
    "plot(\n",
    "    \"beta_bulk\",\n",
    "    (-1, 1020),\n",
    "    names=[\"step_limits_PostStep\"],\n",
    "    field=\"active_energy\",\n",
    "    doeff=True,\n",
    "    figsize=(12, 4),\n",
    ")\n",
    "plot(\n",
    "    \"beta_bulk\",\n",
    "    (-1, 1020),\n",
    "    names=[\"step_limits_Average\"],\n",
    "    field=\"active_energy\",\n",
    "    doeff=True,\n",
    "    figsize=(12, 4),\n",
    ")\n",
    "\n",
    "plot(\n",
    "    \"beta_bulk\",\n",
    "    (-1, 11),\n",
    "    ylims=(100, 2000),\n",
    "    figsize=(6, 4),\n",
    "    savename_spec=\"plots/beta_bulk_steps_low.pdf\",\n",
    "    legend=False,\n",
    ")\n",
    "plot(\n",
    "    \"beta_bulk\",\n",
    "    (990, 1010),\n",
    "    field=\"active_energy\",\n",
    "    figsize=(6, 4),\n",
    "    savename_spec=\"plots/beta_bulk_peak.pdf\",\n",
    "    legend=False,\n",
    ")"
   ]
  },
  {
   "cell_type": "code",
   "execution_count": null,
   "metadata": {},
   "outputs": [],
   "source": [
    "plot_performance(\"beta_bulk\", namep=\"plots/beta_bulk_perf.pdf\")"
   ]
  },
  {
   "cell_type": "code",
   "execution_count": null,
   "metadata": {},
   "outputs": [],
   "source": [
    "plot(\"beta_bulk\", (-1, 1020), field=\"truth_energy\", doeff=True, figsize=(12, 4))\n",
    "plot(\n",
    "    \"beta_bulk\",\n",
    "    (990, 1010),\n",
    "    field=\"truth_energy\",\n",
    "    figsize=(6, 4),\n",
    "    savename_spec=\"plots/beta_bulk_peak_truth.pdf\",\n",
    "    legend=False,\n",
    ")"
   ]
  },
  {
   "cell_type": "markdown",
   "metadata": {},
   "source": [
    "# gamma bulk"
   ]
  },
  {
   "cell_type": "code",
   "execution_count": null,
   "metadata": {},
   "outputs": [],
   "source": [
    "plot(\n",
    "    \"gamma_bulk\",\n",
    "    (-1, 1020),\n",
    "    field=\"truth_energy\",\n",
    "    savename_spec=\"plots/gamma_bulk_steps_truth.pdf\",\n",
    "    savename_eff=\"plots/gamma_bulk_steps_eff_truth.pdf\",\n",
    "    doeff=True,\n",
    "    figsize=(12, 4),\n",
    ")\n",
    "plot(\n",
    "    \"gamma_bulk\",\n",
    "    (990, 1010),\n",
    "    field=\"truth_energy\",\n",
    "    figsize=(6, 4),\n",
    "    savename_spec=\"plots/gamma_bulk_peak_truth.pdf\",\n",
    "    legend=False,\n",
    ")"
   ]
  },
  {
   "cell_type": "code",
   "execution_count": null,
   "metadata": {},
   "outputs": [],
   "source": [
    "plot(\n",
    "    \"gamma_bulk\",\n",
    "    (-1, 1020),\n",
    "    field=\"active_energy\",\n",
    "    savename_spec=\"plots/gamma_bulk_steps.pdf\",\n",
    "    savename_eff=\"plots/beta_bulk_steps_eff.pdf\",\n",
    "    doeff=True,\n",
    "    figsize=(12, 4),\n",
    ")"
   ]
  },
  {
   "cell_type": "markdown",
   "metadata": {},
   "source": [
    " # Beta suirface"
   ]
  },
  {
   "cell_type": "code",
   "execution_count": 37,
   "metadata": {},
   "outputs": [
    {
     "data": {
      "image/png": "[encoded data removed]",
      "text/plain": [
       "<Figure size 1200x400 with 1 Axes>"
      ]
     },
     "metadata": {},
     "output_type": "display_data"
    },
    {
     "data": {
      "image/png": "[encoded data removed]",
      "text/plain": [
       "<Figure size 1200x400 with 1 Axes>"
      ]
     },
     "metadata": {},
     "output_type": "display_data"
    },
    {
     "data": {
      "image/png": "[encoded data removed]",
      "text/plain": [
       "<Figure size 600x400 with 1 Axes>"
      ]
     },
     "metadata": {},
     "output_type": "display_data"
    }
   ],
   "source": [
    "plot(\n",
    "    \"beta_surf\",\n",
    "    (-1, 1020),\n",
    "    field=\"truth_energy\",\n",
    "    eff_low=999,\n",
    "    eff_high=1001,\n",
    "    doeff=True,\n",
    ")\n",
    "plot(\n",
    "    \"beta_surf\",\n",
    "    (990, 1005),\n",
    "    field=\"truth_energy\",\n",
    "    figsize=(6, 4),\n",
    "    legend=False,\n",
    ")"
   ]
  },
  {
   "cell_type": "code",
   "execution_count": 13,
   "metadata": {
    "scrolled": true
   },
   "outputs": [
    {
     "ename": "FileNotFoundError",
     "evalue": "[Errno 2] Unable to synchronously open file (unable to open file: name = 'out/beta_surf/def_lar_off_all/max_0/hit/out_t0.lh5', errno = 2, error message = 'No such file or directory', flags = 0, o_flags = 0)",
     "output_type": "error",
     "traceback": [
      "\u001b[0;31m---------------------------------------------------------------------------\u001b[0m",
      "\u001b[0;31mFileNotFoundError\u001b[0m                         Traceback (most recent call last)",
      "Cell \u001b[0;32mIn[13], line 1\u001b[0m\n\u001b[0;32m----> 1\u001b[0m \u001b[43mplot\u001b[49m\u001b[43m(\u001b[49m\n\u001b[1;32m      2\u001b[0m \u001b[43m    \u001b[49m\u001b[38;5;124;43m\"\u001b[39;49m\u001b[38;5;124;43mbeta_surf\u001b[39;49m\u001b[38;5;124;43m\"\u001b[39;49m\u001b[43m,\u001b[49m\n\u001b[1;32m      3\u001b[0m \u001b[43m    \u001b[49m\u001b[43m(\u001b[49m\u001b[38;5;241;43m200\u001b[39;49m\u001b[43m,\u001b[49m\u001b[43m \u001b[49m\u001b[38;5;241;43m600\u001b[39;49m\u001b[43m)\u001b[49m\u001b[43m,\u001b[49m\n\u001b[1;32m      4\u001b[0m \u001b[43m    \u001b[49m\u001b[43mfields\u001b[49m\u001b[38;5;241;43m=\u001b[39;49m\u001b[43m[\u001b[49m\u001b[38;5;124;43m\"\u001b[39;49m\u001b[38;5;124;43mactive_energy\u001b[39;49m\u001b[38;5;124;43m\"\u001b[39;49m\u001b[43m]\u001b[49m\u001b[43m,\u001b[49m\n\u001b[1;32m      5\u001b[0m \u001b[43m    \u001b[49m\u001b[43mnames\u001b[49m\u001b[38;5;241;43m=\u001b[39;49m\u001b[43m[\u001b[49m\u001b[38;5;124;43m\"\u001b[39;49m\u001b[38;5;124;43mstep_limits\u001b[39;49m\u001b[38;5;124;43m\"\u001b[39;49m\u001b[43m]\u001b[49m\u001b[43m,\u001b[49m\n\u001b[1;32m      6\u001b[0m \u001b[43m    \u001b[49m\u001b[43mtypes\u001b[49m\u001b[38;5;241;43m=\u001b[39;49m\u001b[38;5;124;43m\"\u001b[39;49m\u001b[38;5;124;43mall\u001b[39;49m\u001b[38;5;124;43m\"\u001b[39;49m\u001b[43m,\u001b[49m\n\u001b[1;32m      7\u001b[0m \u001b[43m    \u001b[49m\u001b[43mlabel\u001b[49m\u001b[38;5;241;43m=\u001b[39;49m\u001b[38;5;124;43m\"\u001b[39;49m\u001b[38;5;124;43mEnergy [keV]\u001b[39;49m\u001b[38;5;124;43m\"\u001b[39;49m\u001b[43m,\u001b[49m\n\u001b[1;32m      8\u001b[0m \u001b[43m    \u001b[49m\u001b[43meff_low\u001b[49m\u001b[38;5;241;43m=\u001b[39;49m\u001b[38;5;241;43m300\u001b[39;49m\u001b[43m,\u001b[49m\n\u001b[1;32m      9\u001b[0m \u001b[43m    \u001b[49m\u001b[43mscale\u001b[49m\u001b[38;5;241;43m=\u001b[39;49m\u001b[38;5;124;43m\"\u001b[39;49m\u001b[38;5;124;43mlinear\u001b[39;49m\u001b[38;5;124;43m\"\u001b[39;49m\u001b[43m,\u001b[49m\n\u001b[1;32m     10\u001b[0m \u001b[43m    \u001b[49m\u001b[43meff_title\u001b[49m\u001b[38;5;241;43m=\u001b[39;49m\u001b[38;5;124;43m\"\u001b[39;49m\u001b[38;5;124;43m300 - 1000 keV\u001b[39;49m\u001b[38;5;124;43m\"\u001b[39;49m\u001b[43m,\u001b[49m\n\u001b[1;32m     11\u001b[0m \u001b[43m    \u001b[49m\u001b[43meff_high\u001b[49m\u001b[38;5;241;43m=\u001b[39;49m\u001b[38;5;241;43m1000\u001b[39;49m\u001b[43m,\u001b[49m\n\u001b[1;32m     12\u001b[0m \u001b[43m    \u001b[49m\u001b[43mdoeff\u001b[49m\u001b[38;5;241;43m=\u001b[39;49m\u001b[38;5;28;43;01mTrue\u001b[39;49;00m\u001b[43m,\u001b[49m\n\u001b[1;32m     13\u001b[0m \u001b[43m    \u001b[49m\u001b[43mylims\u001b[49m\u001b[38;5;241;43m=\u001b[39;49m\u001b[43m(\u001b[49m\u001b[38;5;241;43m0\u001b[39;49m\u001b[43m,\u001b[49m\u001b[43m \u001b[49m\u001b[38;5;241;43m70\u001b[39;49m\u001b[43m)\u001b[49m\u001b[43m,\u001b[49m\n\u001b[1;32m     14\u001b[0m \u001b[43m)\u001b[49m\n",
      "Cell \u001b[0;32mIn[12], line 40\u001b[0m, in \u001b[0;36mplot\u001b[0;34m(generator, xrange, cuts, names, fields, de, scale, eff_title, ylims, eff_low, eff_high, savename_spec, savename_eff, doeff, figsize, legend, binning, bs, factor, types, label)\u001b[0m\n\u001b[1;32m     37\u001b[0m \u001b[38;5;28;01mfor\u001b[39;00m field \u001b[38;5;129;01min\u001b[39;00m fields:\n\u001b[1;32m     38\u001b[0m     fig, ax \u001b[38;5;241m=\u001b[39m plt\u001b[38;5;241m.\u001b[39msubplots(figsize\u001b[38;5;241m=\u001b[39mfigsize)\n\u001b[0;32m---> 40\u001b[0m     ak_obj \u001b[38;5;241m=\u001b[39m \u001b[43mget_lh5\u001b[49m\u001b[43m(\u001b[49m\u001b[43mgenerator\u001b[49m\u001b[43m,\u001b[49m\u001b[43m \u001b[49m\u001b[38;5;124;43mf\u001b[39;49m\u001b[38;5;124;43m\"\u001b[39;49m\u001b[38;5;124;43mdef_lar_off_\u001b[39;49m\u001b[38;5;132;43;01m{\u001b[39;49;00m\u001b[43mtypes\u001b[49m\u001b[38;5;132;43;01m}\u001b[39;49;00m\u001b[38;5;124;43m\"\u001b[39;49m\u001b[43m,\u001b[49m\u001b[43m \u001b[49m\u001b[38;5;241;43m0\u001b[39;49m\u001b[43m)\u001b[49m\n\u001b[1;32m     41\u001b[0m     ak_obj \u001b[38;5;241m=\u001b[39m ak_obj[ak_obj[field] \u001b[38;5;241m!=\u001b[39m \u001b[38;5;241m0\u001b[39m]\n\u001b[1;32m     42\u001b[0m     ak_obj[field] \u001b[38;5;241m=\u001b[39m ak_obj[field] \u001b[38;5;241m*\u001b[39m factor\n",
      "Cell \u001b[0;32mIn[2], line 7\u001b[0m, in \u001b[0;36mget_lh5\u001b[0;34m(generator, name, val, threads)\u001b[0m\n\u001b[1;32m      4\u001b[0m data \u001b[38;5;241m=\u001b[39m \u001b[38;5;28;01mNone\u001b[39;00m\n\u001b[1;32m      6\u001b[0m \u001b[38;5;28;01mfor\u001b[39;00m t \u001b[38;5;129;01min\u001b[39;00m \u001b[38;5;28mrange\u001b[39m(threads):\n\u001b[0;32m----> 7\u001b[0m     dt \u001b[38;5;241m=\u001b[39m \u001b[43mlh5\u001b[49m\u001b[38;5;241;43m.\u001b[39;49m\u001b[43mread_as\u001b[49m\u001b[43m(\u001b[49m\u001b[38;5;124;43m\"\u001b[39;49m\u001b[38;5;124;43mgermanium/hit\u001b[39;49m\u001b[38;5;124;43m\"\u001b[39;49m\u001b[43m,\u001b[49m\u001b[43m \u001b[49m\u001b[38;5;124;43mf\u001b[39;49m\u001b[38;5;124;43m\"\u001b[39;49m\u001b[38;5;132;43;01m{\u001b[39;49;00m\u001b[43mhit_directory\u001b[49m\u001b[38;5;132;43;01m}\u001b[39;49;00m\u001b[38;5;124;43m/out_t\u001b[39;49m\u001b[38;5;132;43;01m{\u001b[39;49;00m\u001b[43mt\u001b[49m\u001b[38;5;132;43;01m}\u001b[39;49;00m\u001b[38;5;124;43m.lh5\u001b[39;49m\u001b[38;5;124;43m\"\u001b[39;49m\u001b[43m,\u001b[49m\u001b[43m \u001b[49m\u001b[38;5;124;43m\"\u001b[39;49m\u001b[38;5;124;43mak\u001b[39;49m\u001b[38;5;124;43m\"\u001b[39;49m\u001b[43m)\u001b[49m\n\u001b[1;32m      8\u001b[0m     data \u001b[38;5;241m=\u001b[39m ak\u001b[38;5;241m.\u001b[39mconcatenate((data,dt)) \u001b[38;5;28;01mif\u001b[39;00m data \u001b[38;5;129;01mis\u001b[39;00m \u001b[38;5;129;01mnot\u001b[39;00m \u001b[38;5;28;01mNone\u001b[39;00m \u001b[38;5;28;01melse\u001b[39;00m dt\n\u001b[1;32m      9\u001b[0m \u001b[38;5;28;01mreturn\u001b[39;00m data\n",
      "File \u001b[0;32m~/.conda/envs/sims/lib/python3.11/site-packages/lgdo/lh5/core.py:355\u001b[0m, in \u001b[0;36mread_as\u001b[0;34m(name, lh5_file, library, **kwargs)\u001b[0m\n\u001b[1;32m    351\u001b[0m         kwargs2[k] \u001b[38;5;241m=\u001b[39m v\n\u001b[1;32m    353\u001b[0m \u001b[38;5;66;03m# read the LGDO from disk\u001b[39;00m\n\u001b[1;32m    354\u001b[0m \u001b[38;5;66;03m# NOTE: providing a buffer does not make much sense\u001b[39;00m\n\u001b[0;32m--> 355\u001b[0m obj \u001b[38;5;241m=\u001b[39m \u001b[43mread\u001b[49m\u001b[43m(\u001b[49m\u001b[43mname\u001b[49m\u001b[43m,\u001b[49m\u001b[43m \u001b[49m\u001b[43mlh5_file\u001b[49m\u001b[43m,\u001b[49m\u001b[43m \u001b[49m\u001b[38;5;241;43m*\u001b[39;49m\u001b[38;5;241;43m*\u001b[39;49m\u001b[43mkwargs1\u001b[49m\u001b[43m)\u001b[49m\n\u001b[1;32m    357\u001b[0m \u001b[38;5;28;01mif\u001b[39;00m \u001b[38;5;28misinstance\u001b[39m(obj, \u001b[38;5;28mtuple\u001b[39m):\n\u001b[1;32m    358\u001b[0m     obj \u001b[38;5;241m=\u001b[39m obj[\u001b[38;5;241m0\u001b[39m]\n",
      "File \u001b[0;32m~/.conda/envs/sims/lib/python3.11/site-packages/lgdo/lh5/core.py:119\u001b[0m, in \u001b[0;36mread\u001b[0;34m(name, lh5_file, start_row, n_rows, idx, use_h5idx, field_mask, obj_buf, obj_buf_start, decompress, locking)\u001b[0m\n\u001b[1;32m    117\u001b[0m     lh5_obj \u001b[38;5;241m=\u001b[39m lh5_file[name]\n\u001b[1;32m    118\u001b[0m \u001b[38;5;28;01melif\u001b[39;00m \u001b[38;5;28misinstance\u001b[39m(lh5_file, \u001b[38;5;28mstr\u001b[39m):\n\u001b[0;32m--> 119\u001b[0m     lh5_file \u001b[38;5;241m=\u001b[39m \u001b[43mh5py\u001b[49m\u001b[38;5;241;43m.\u001b[39;49m\u001b[43mFile\u001b[49m\u001b[43m(\u001b[49m\u001b[43mlh5_file\u001b[49m\u001b[43m,\u001b[49m\u001b[43m \u001b[49m\u001b[43mmode\u001b[49m\u001b[38;5;241;43m=\u001b[39;49m\u001b[38;5;124;43m\"\u001b[39;49m\u001b[38;5;124;43mr\u001b[39;49m\u001b[38;5;124;43m\"\u001b[39;49m\u001b[43m,\u001b[49m\u001b[43m \u001b[49m\u001b[43mlocking\u001b[49m\u001b[38;5;241;43m=\u001b[39;49m\u001b[43mlocking\u001b[49m\u001b[43m)\u001b[49m\n\u001b[1;32m    120\u001b[0m     lh5_obj \u001b[38;5;241m=\u001b[39m lh5_file[name]\n\u001b[1;32m    121\u001b[0m \u001b[38;5;28;01melse\u001b[39;00m:\n",
      "File \u001b[0;32m~/.conda/envs/sims/lib/python3.11/site-packages/h5py/_hl/files.py:564\u001b[0m, in \u001b[0;36mFile.__init__\u001b[0;34m(self, name, mode, driver, libver, userblock_size, swmr, rdcc_nslots, rdcc_nbytes, rdcc_w0, track_order, fs_strategy, fs_persist, fs_threshold, fs_page_size, page_buf_size, min_meta_keep, min_raw_keep, locking, alignment_threshold, alignment_interval, meta_block_size, **kwds)\u001b[0m\n\u001b[1;32m    555\u001b[0m     fapl \u001b[38;5;241m=\u001b[39m make_fapl(driver, libver, rdcc_nslots, rdcc_nbytes, rdcc_w0,\n\u001b[1;32m    556\u001b[0m                      locking, page_buf_size, min_meta_keep, min_raw_keep,\n\u001b[1;32m    557\u001b[0m                      alignment_threshold\u001b[38;5;241m=\u001b[39malignment_threshold,\n\u001b[1;32m    558\u001b[0m                      alignment_interval\u001b[38;5;241m=\u001b[39malignment_interval,\n\u001b[1;32m    559\u001b[0m                      meta_block_size\u001b[38;5;241m=\u001b[39mmeta_block_size,\n\u001b[1;32m    560\u001b[0m                      \u001b[38;5;241m*\u001b[39m\u001b[38;5;241m*\u001b[39mkwds)\n\u001b[1;32m    561\u001b[0m     fcpl \u001b[38;5;241m=\u001b[39m make_fcpl(track_order\u001b[38;5;241m=\u001b[39mtrack_order, fs_strategy\u001b[38;5;241m=\u001b[39mfs_strategy,\n\u001b[1;32m    562\u001b[0m                      fs_persist\u001b[38;5;241m=\u001b[39mfs_persist, fs_threshold\u001b[38;5;241m=\u001b[39mfs_threshold,\n\u001b[1;32m    563\u001b[0m                      fs_page_size\u001b[38;5;241m=\u001b[39mfs_page_size)\n\u001b[0;32m--> 564\u001b[0m     fid \u001b[38;5;241m=\u001b[39m \u001b[43mmake_fid\u001b[49m\u001b[43m(\u001b[49m\u001b[43mname\u001b[49m\u001b[43m,\u001b[49m\u001b[43m \u001b[49m\u001b[43mmode\u001b[49m\u001b[43m,\u001b[49m\u001b[43m \u001b[49m\u001b[43muserblock_size\u001b[49m\u001b[43m,\u001b[49m\u001b[43m \u001b[49m\u001b[43mfapl\u001b[49m\u001b[43m,\u001b[49m\u001b[43m \u001b[49m\u001b[43mfcpl\u001b[49m\u001b[43m,\u001b[49m\u001b[43m \u001b[49m\u001b[43mswmr\u001b[49m\u001b[38;5;241;43m=\u001b[39;49m\u001b[43mswmr\u001b[49m\u001b[43m)\u001b[49m\n\u001b[1;32m    566\u001b[0m \u001b[38;5;28;01mif\u001b[39;00m \u001b[38;5;28misinstance\u001b[39m(libver, \u001b[38;5;28mtuple\u001b[39m):\n\u001b[1;32m    567\u001b[0m     \u001b[38;5;28mself\u001b[39m\u001b[38;5;241m.\u001b[39m_libver \u001b[38;5;241m=\u001b[39m libver\n",
      "File \u001b[0;32m~/.conda/envs/sims/lib/python3.11/site-packages/h5py/_hl/files.py:238\u001b[0m, in \u001b[0;36mmake_fid\u001b[0;34m(name, mode, userblock_size, fapl, fcpl, swmr)\u001b[0m\n\u001b[1;32m    236\u001b[0m     \u001b[38;5;28;01mif\u001b[39;00m swmr \u001b[38;5;129;01mand\u001b[39;00m swmr_support:\n\u001b[1;32m    237\u001b[0m         flags \u001b[38;5;241m|\u001b[39m\u001b[38;5;241m=\u001b[39m h5f\u001b[38;5;241m.\u001b[39mACC_SWMR_READ\n\u001b[0;32m--> 238\u001b[0m     fid \u001b[38;5;241m=\u001b[39m \u001b[43mh5f\u001b[49m\u001b[38;5;241;43m.\u001b[39;49m\u001b[43mopen\u001b[49m\u001b[43m(\u001b[49m\u001b[43mname\u001b[49m\u001b[43m,\u001b[49m\u001b[43m \u001b[49m\u001b[43mflags\u001b[49m\u001b[43m,\u001b[49m\u001b[43m \u001b[49m\u001b[43mfapl\u001b[49m\u001b[38;5;241;43m=\u001b[39;49m\u001b[43mfapl\u001b[49m\u001b[43m)\u001b[49m\n\u001b[1;32m    239\u001b[0m \u001b[38;5;28;01melif\u001b[39;00m mode \u001b[38;5;241m==\u001b[39m \u001b[38;5;124m'\u001b[39m\u001b[38;5;124mr+\u001b[39m\u001b[38;5;124m'\u001b[39m:\n\u001b[1;32m    240\u001b[0m     fid \u001b[38;5;241m=\u001b[39m h5f\u001b[38;5;241m.\u001b[39mopen(name, h5f\u001b[38;5;241m.\u001b[39mACC_RDWR, fapl\u001b[38;5;241m=\u001b[39mfapl)\n",
      "File \u001b[0;32mh5py/_objects.pyx:54\u001b[0m, in \u001b[0;36mh5py._objects.with_phil.wrapper\u001b[0;34m()\u001b[0m\n",
      "File \u001b[0;32mh5py/_objects.pyx:55\u001b[0m, in \u001b[0;36mh5py._objects.with_phil.wrapper\u001b[0;34m()\u001b[0m\n",
      "File \u001b[0;32mh5py/h5f.pyx:102\u001b[0m, in \u001b[0;36mh5py.h5f.open\u001b[0;34m()\u001b[0m\n",
      "\u001b[0;31mFileNotFoundError\u001b[0m: [Errno 2] Unable to synchronously open file (unable to open file: name = 'out/beta_surf/def_lar_off_all/max_0/hit/out_t0.lh5', errno = 2, error message = 'No such file or directory', flags = 0, o_flags = 0)"
     ]
    },
    {
     "data": {
      "image/png": "[encoded data removed]",
      "text/plain": [
       "<Figure size 1200x400 with 1 Axes>"
      ]
     },
     "metadata": {},
     "output_type": "display_data"
    }
   ],
   "source": [
    "plot(\n",
    "    \"beta_surf\",\n",
    "    (200, 600),\n",
    "    fields=[\"active_energy\"],\n",
    "    names=[\"step_limits\"],\n",
    "    types=\"all\",\n",
    "    label=\"Energy [keV]\",\n",
    "    eff_low=300,\n",
    "    scale=\"linear\",\n",
    "    eff_title=\"300 - 1000 keV\",\n",
    "    eff_high=1000,\n",
    "    doeff=True,\n",
    "    ylims=(0, 70),\n",
    ")"
   ]
  },
  {
   "cell_type": "code",
   "execution_count": null,
   "metadata": {},
   "outputs": [],
   "source": [
    "plot(\n",
    "    \"beta_bulk\",\n",
    "    (0, 1200),\n",
    "    field=\"active_energy\",\n",
    "    names=[\"step_limits_PreStep\", \"step_limits_Average\", \"step_limits_PostStep\"],\n",
    "    eff_low=999,\n",
    "    scale=\"linear\",\n",
    "    eff_title=\"1000 +/- 1 keV\",\n",
    "    eff_high=1001,\n",
    "    doeff=True,\n",
    ")"
   ]
  },
  {
   "cell_type": "code",
   "execution_count": null,
   "metadata": {},
   "outputs": [],
   "source": [
    "plot(\n",
    "    \"beta_surf\",\n",
    "    (200, 600),\n",
    "    field=\"active_energy\",\n",
    "    names=[\"step_limits_PreStep\", \"step_limits_Average\", \"step_limits_PostStep\"],\n",
    "    eff_low=300,\n",
    "    scale=\"linear\",\n",
    "    eff_title=\"300 - 1000 keV\",\n",
    "    eff_high=1000,\n",
    "    doeff=True,\n",
    "    ylims=(0, 70),\n",
    ")"
   ]
  },
  {
   "cell_type": "code",
   "execution_count": null,
   "metadata": {},
   "outputs": [],
   "source": [
    "plot(\n",
    "    \"beta_surf\",\n",
    "    (0, 1),\n",
    "    field=\"max_z\",\n",
    "    binning=None,\n",
    "    label=\"max z [mm]\",\n",
    "    names=[\"step_limits_PreStep\", \"step_limits_Average\", \"step_limits_PostStep\"],\n",
    "    eff_low=0.6,\n",
    "    scale=\"linear\",\n",
    "    eff_title=\"Max z in [0.6 - 2]mm\",\n",
    "    eff_high=1.1,\n",
    "    doeff=True,\n",
    ")"
   ]
  },
  {
   "cell_type": "code",
   "execution_count": null,
   "metadata": {},
   "outputs": [],
   "source": [
    "plot(\n",
    "    \"beta_surf\",\n",
    "    (-1, 1020),\n",
    "    field=\"active_energy\",\n",
    "    eff_low=200,\n",
    "    eff_title=\"200 - 300 keV\",\n",
    "    eff_high=300,\n",
    "    doeff=True,\n",
    "    savename_spec=\"plots/beta_surf_spec.pdf\",\n",
    "    savename_eff=\"plots/beta_surf_steps_eff_200_300.pdf\",\n",
    ")\n",
    "\n",
    "plot(\n",
    "    \"beta_surf\",\n",
    "    (-1, 1020),\n",
    "    field=\"active_energy\",\n",
    "    eff_low=100,\n",
    "    eff_high=200,\n",
    "    eff_title=\"100 - 200 keV\",\n",
    "    doeff=True,\n",
    "    savename_spec=\"plots/beta_surf_spec.pdf\",\n",
    "    savename_eff=\"plots/beta_surf_steps_eff_100_200.pdf\",\n",
    ")\n",
    "\n",
    "plot(\n",
    "    \"beta_surf\",\n",
    "    (-1, 11),\n",
    "    ylims=(200, 6000),\n",
    "    figsize=(6, 4),\n",
    "    savename_spec=\"plots/beta_surf_steps_low.pdf\",\n",
    "    legend=False,\n",
    ")"
   ]
  },
  {
   "cell_type": "code",
   "execution_count": null,
   "metadata": {},
   "outputs": [],
   "source": [
    "plot_performance(\"beta_surf\", namep=\"plots/beta_surf_perf.pdf\")"
   ]
  },
  {
   "cell_type": "markdown",
   "metadata": {},
   "source": [
    "# Prod cuts"
   ]
  },
  {
   "cell_type": "code",
   "execution_count": null,
   "metadata": {},
   "outputs": [],
   "source": [
    "plot(\n",
    "    \"beta_bulk\",\n",
    "    (-1, 1020),\n",
    "    name=\"sens_prod_cuts\",\n",
    "    step_range=(5, 145, 8),\n",
    "    field=\"truth_energy\",\n",
    "    doeff=True,\n",
    "    savename_spec=\"plots/beta_bulk_cuts_spectrum_truth.pdf\",\n",
    "    savename_eff=\"plots/beta_bulk_cuts_eff_truth.pdf\",\n",
    ")\n",
    "\n",
    "plot(\"beta_bulk\", (980, 1005), name=\"sens_prod_cuts\", step_range=(5, 145, 8))"
   ]
  },
  {
   "cell_type": "code",
   "execution_count": null,
   "metadata": {},
   "outputs": [],
   "source": [
    "plot(\n",
    "    \"beta_bulk\",\n",
    "    (-1, 1020),\n",
    "    name=\"sens_prod_cuts\",\n",
    "    step_range=(5, 145, 8),\n",
    "    field=\"active_energy\",\n",
    "    doeff=True,\n",
    "    savename_spec=\"plots/beta_bulk_cuts_spectrum.pdf\",\n",
    "    savename_eff=\"plots/beta_bulk_cuts_eff.pdf\",\n",
    ")\n",
    "\n",
    "plot(\n",
    "    \"beta_bulk\",\n",
    "    (980, 1005),\n",
    "    name=\"sens_prod_cuts\",\n",
    "    step_range=(5, 145, 8),\n",
    "    savename_spec=\"plots/beta_bulk_cuts_peak.pdf\",\n",
    "    figsize=(6, 4),\n",
    "    legend=False,\n",
    ")"
   ]
  },
  {
   "cell_type": "code",
   "execution_count": null,
   "metadata": {},
   "outputs": [],
   "source": [
    "plot_performance(\n",
    "    \"beta_bulk\", name=\"sens_prod_cuts\", namep=\"plots/beta_bulk_cuts_perf.pdf\"\n",
    ")"
   ]
  },
  {
   "cell_type": "code",
   "execution_count": null,
   "metadata": {},
   "outputs": [],
   "source": [
    "plot_performance(\n",
    "    \"beta_bulk\", name=\"def_prod_cuts_lar_off\", namep=\"plots/beta_bulk_cuts_perf.pdf\"\n",
    ")"
   ]
  },
  {
   "cell_type": "code",
   "execution_count": null,
   "metadata": {},
   "outputs": [],
   "source": [
    "plot(\n",
    "    \"beta_bulk\",\n",
    "    (0, 2),\n",
    "    name=\"sens_prod_cuts\",\n",
    "    step_range=(5, 145, 8),\n",
    "    field=\"r90\",\n",
    "    factor=1000,\n",
    "    doeff=True,\n",
    "    figsize=(12, 4),\n",
    "    binning=None,\n",
    "    label=\"r90 [mm]\",\n",
    "    eff_low=2.5,\n",
    "    eff_high=20,\n",
    "    bs=2000,\n",
    ")\n",
    "\n",
    "plot(\n",
    "    \"beta_bulk\",\n",
    "    (0, 20),\n",
    "    name=\"sens_prod_cuts\",\n",
    "    step_range=(5, 145, 8),\n",
    "    field=\"r90\",\n",
    "    factor=1000,\n",
    "    doeff=True,\n",
    "    figsize=(12, 4),\n",
    "    binning=None,\n",
    "    label=\"r90 [mm]\",\n",
    "    eff_low=2.5,\n",
    "    eff_high=20,\n",
    ")"
   ]
  },
  {
   "cell_type": "markdown",
   "metadata": {},
   "source": [
    "# Gamma bulk - prod cuts"
   ]
  },
  {
   "cell_type": "code",
   "execution_count": null,
   "metadata": {},
   "outputs": [],
   "source": [
    "plot(\n",
    "    \"gamma_bulk\",\n",
    "    (-1, 1020),\n",
    "    name=\"sens_prod_cuts\",\n",
    "    step_range=(5, 145, 8),\n",
    "    field=\"active_energy\",\n",
    "    savename_spec=\"plots/gamma_bulk_cuts.pdf\",\n",
    "    savename_eff=\"plots/beta_bulk_cuts_eff.pdf\",\n",
    "    doeff=True,\n",
    "    figsize=(12, 4),\n",
    ")"
   ]
  },
  {
   "cell_type": "markdown",
   "metadata": {},
   "source": [
    "## Beta surf - production cuts"
   ]
  },
  {
   "cell_type": "code",
   "execution_count": null,
   "metadata": {},
   "outputs": [],
   "source": [
    "plot(\n",
    "    \"beta_surf\",\n",
    "    (-1, 1020),\n",
    "    name=\"sens_prod_cuts\",\n",
    "    step_range=(5, 145, 8),\n",
    "    field=\"truth_energy\",\n",
    "    doeff=True,\n",
    "    savename_spec=\"plots/beta_surf_cuts_spectrum_truth.pdf\",\n",
    "    savename_eff=\"plots/beta_surf_cuts_eff_truth.pdf\",\n",
    ")"
   ]
  },
  {
   "cell_type": "code",
   "execution_count": null,
   "metadata": {},
   "outputs": [],
   "source": [
    "plot(\n",
    "    \"beta_surf\",\n",
    "    (-1, 1020),\n",
    "    name=\"sens_prod_cuts\",\n",
    "    step_range=(5, 145, 8),\n",
    "    field=\"active_energy\",\n",
    "    doeff=True,\n",
    "    eff_low=300,\n",
    "    eff_high=1000,\n",
    "    savename_spec=\"plots/beta_surf_cuts_spectrum.pdf\",\n",
    "    savename_eff=\"plots/beta_surf_cuts_eff.pdf\",\n",
    ")"
   ]
  },
  {
   "cell_type": "code",
   "execution_count": null,
   "metadata": {},
   "outputs": [],
   "source": [
    "plot_performance(\n",
    "    \"beta_surf\", name=\"sens_prod_cuts\", namep=\"plots/beta_surf_cuts_perf.pdf\"\n",
    ")"
   ]
  },
  {
   "cell_type": "markdown",
   "metadata": {},
   "source": [
    "### External gammas"
   ]
  },
  {
   "cell_type": "code",
   "execution_count": null,
   "metadata": {},
   "outputs": [],
   "source": [
    "plot_performance(\"gamma_external\", name=\"def_prod_cuts_lar_off\")\n",
    "plot_performance(\"gamma_external\", name=\"def_prod_cuts_lar_on\")"
   ]
  },
  {
   "cell_type": "code",
   "execution_count": null,
   "metadata": {},
   "outputs": [],
   "source": [
    "plot(\n",
    "    \"gamma_external\",\n",
    "    (-1, 1020),\n",
    "    name=\"def_prod_cuts_lar_on\",\n",
    "    step_range=(10, 490, 5),\n",
    "    field=\"active_energy\",\n",
    "    doeff=True,\n",
    "    eff_low=999,\n",
    "    eff_high=1001,\n",
    "    factor=1,\n",
    ")"
   ]
  },
  {
   "cell_type": "code",
   "execution_count": null,
   "metadata": {},
   "outputs": [],
   "source": []
  },
  {
   "cell_type": "code",
   "execution_count": null,
   "metadata": {},
   "outputs": [],
   "source": []
  },
  {
   "cell_type": "code",
   "execution_count": null,
   "metadata": {},
   "outputs": [],
   "source": []
  },
  {
   "cell_type": "code",
   "execution_count": null,
   "metadata": {},
   "outputs": [],
   "source": []
  },
  {
   "cell_type": "code",
   "execution_count": null,
   "metadata": {},
   "outputs": [],
   "source": []
  }
 ],
 "metadata": {
  "kernelspec": {
   "display_name": "sims",
   "language": "python",
   "name": "env"
  },
  "language_info": {
   "codemirror_mode": {
    "name": "ipython",
    "version": 3
   },
   "file_extension": ".py",
   "mimetype": "text/x-python",
   "name": "python",
   "nbconvert_exporter": "python",
   "pygments_lexer": "ipython3",
   "version": "3.11.0"
  }
 },
 "nbformat": 4,
 "nbformat_minor": 4
}
