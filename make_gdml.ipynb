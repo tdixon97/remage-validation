{
 "cells": [
  {
   "cell_type": "code",
   "execution_count": 5,
   "metadata": {},
   "outputs": [],
   "source": [
    "from __future__ import annotations\n",
    "\n",
    "import legendhpges as hpges\n",
    "import pyg4ometry as pg4\n",
    "import numpy as np\n",
    "reg = pg4.geant4.Registry()\n",
    "from pygeomtools import viewer\n",
    "import pygeomtools\n",
    "from pygeomtools import viewer\n",
    "\n",
    "\n",
    "# create a world volume\n",
    "world_s = pg4.geant4.solid.Orb(\"world\", 150,registry=reg, lunit=\"mm\")\n",
    "world_l = pg4.geant4.LogicalVolume(world_s, \"G4_Galactic\", \"world\", registry=reg)\n",
    "reg.setWorld(world_l)\n",
    "\n",
    "\n",
    "# lar baloon \n",
    "lar_s = pg4.geant4.solid.Orb(\"LAr_s\",65, registry=reg, lunit=\"mm\")\n",
    "lar_l = pg4.geant4.LogicalVolume(lar_s, \"G4_lAr\", \"LAr_l\", registry=reg)\n",
    "pg4.geant4.PhysicalVolume([0, 0, 0], [0, 0, 0], lar_l, \"LAr\", world_l, registry=reg)\n",
    "lar_l.pygeom_color_rgba = (1, 0, 1, 0.1)\n",
    "\n",
    "\n",
    "# let's make a germanium balloon\n",
    "natge = hpges.materials.make_natural_germanium(reg)\n",
    "ge_s = pg4.geant4.solid.Tubs(\"germanium\", pRMin = 0,pRMax = 10, pDz=10, pSPhi=0,pDPhi = 2*np.pi, registry=reg, lunit=\"mm\")\n",
    "ge_l = pg4.geant4.LogicalVolume(ge_s, natge, \"germanium\", registry=reg)\n",
    "pg4.geant4.PhysicalVolume(\n",
    "    [0, 0, 0], [0, 0, 0], ge_l, \"germanium\", lar_l, registry=reg\n",
    ")\n",
    "ge_l.pygeom_color_rgba = (0, 1, 1, .9)\n",
    "\n",
    "\n",
    "# finally create a small radioactive source\n",
    "source_s = pg4.geant4.solid.Tubs(\"Source_s\", 0, 4, 1, 0, 2*np.pi, registry=reg)\n",
    "source_l = pg4.geant4.LogicalVolume(source_s, \"G4_Fe\", \"Source_L\", registry=reg)\n",
    "pg4.geant4.PhysicalVolume([0, 0, 0], [0, 4, 0, \"cm\"], source_l, \"Source\", lar_l, registry=reg)\n",
    "\n",
    "viewer.visualize(reg)\n",
    "pygeomtools.visualization.write_color_auxvals(reg)\n",
    "\n",
    "w = pg4.gdml.Writer()\n",
    "w.addDetector(reg)\n",
    "\n",
    "w.write(\"gdml/geometry.gdml\")\n"
   ]
  },
  {
   "cell_type": "code",
   "execution_count": null,
   "metadata": {},
   "outputs": [],
   "source": []
  }
 ],
 "metadata": {
  "kernelspec": {
   "display_name": "sims",
   "language": "python",
   "name": "sims"
  },
  "language_info": {
   "codemirror_mode": {
    "name": "ipython",
    "version": 3
   },
   "file_extension": ".py",
   "mimetype": "text/x-python",
   "name": "python",
   "nbconvert_exporter": "python",
   "pygments_lexer": "ipython3",
   "version": "3.11.10"
  }
 },
 "nbformat": 4,
 "nbformat_minor": 4
}
